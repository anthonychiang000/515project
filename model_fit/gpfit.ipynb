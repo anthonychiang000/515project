{
 "cells": [
  {
   "cell_type": "code",
   "execution_count": 1,
   "metadata": {},
   "outputs": [],
   "source": [
    "import numpy as np\n",
    "import math\n",
    "import GPy\n",
    "import matplotlib.pyplot as plt\n",
    "import seaborn"
   ]
  },
  {
   "cell_type": "code",
   "execution_count": 5,
   "metadata": {},
   "outputs": [],
   "source": [
    "import numpy as np\n",
    "from scipy.stats import qmc\n",
    "\n",
    "# Goldstein-Price function (as defined in previous responses)\n",
    "def goldstein_price(data):\n",
    "    x = data[0]\n",
    "    y = data[1]\n",
    "    val1 = (1 + (x+y+1)**2 * (19-14*x+3*x**2-14*y+6*x*y+3*y**2))\n",
    "    val2 = (30 + ((2*x-3*y)**2) * (18-32*x+12*x**2+48*y-36*x*y+27*y**2))\n",
    "    return val1 * val2\n",
    "\n",
    "\n",
    "d = 2 \n",
    "\n",
    "# Number of samples\n",
    "n_samples = 32\n",
    "\n",
    "# Create a Sobol sequence generator\n",
    "sobol_engine = qmc.Sobol(d=d, scramble=False)  # scramble=True for better properties in high dimensions\n",
    "\n",
    "# Generate Sobol points\n",
    "sobol_points = sobol_engine.random_base2(m=int(np.log2(n_samples)))\n",
    "\n",
    "\n",
    "# If n_samples is not a power of 2: (important!)\n",
    "if not (n_samples != 0 and (n_samples & (n_samples - 1) == 0)): # Check if n_samples is not a power of 2\n",
    "    sobol_points = sobol_engine.random(n=n_samples) #use random if not power of two\n",
    "\n",
    "\n",
    "# Scale and shift to the Goldstein-Price domain [-2, 2]\n",
    "domain_min = -2\n",
    "domain_max = 2\n",
    "scaled_sobol_points = domain_min + (domain_max - domain_min) * sobol_points\n",
    "# Evaluate the function\n",
    "function_values = np.array([goldstein_price(point) for point in scaled_sobol_points])"
   ]
  },
  {
   "cell_type": "code",
   "execution_count": 6,
   "metadata": {},
   "outputs": [],
   "source": [
    "def base_kernel_search(X, y):\n",
    "    kernel_comp = [GPy.kern.RBF(input_dim=X.shape[1], variance=1.0, lengthscale=1.0), \n",
    "                         GPy.kern.RatQuad(input_dim=X.shape[1], variance = 1.0, lengthscale= 1.0),\n",
    "                         GPy.kern.Matern32(input_dim=X.shape[1], variance = 1.0, lengthscale= 1.0),\n",
    "                         GPy.kern.Matern52(input_dim=X.shape[1], variance = 1.0, lengthscale= 1.0),\n",
    "                         GPy.kern.StdPeriodic(input_dim=X.shape[1], variance = 1.0, lengthscale= 1.0),\n",
    "                         GPy.kern.Exponential(input_dim=X.shape[1], variance = 1.0, lengthscale= 1.0)]\n",
    "    \n",
    "    best_model = None\n",
    "    best_bic = float('inf')\n",
    "    mean = GPy.mappings.Constant(input_dim = X.shape[1], output_dim = 1, value = np.mean(y))\n",
    "\n",
    "\n",
    "    for kernel1 in kernel_comp:\n",
    "        kernel = kernel1\n",
    "        model = GPy.models.GPRegression(X, y, kernel, noise_var=0.001**2, mean_function=mean)\n",
    "        model.Gaussian_noise.variance.fix()\n",
    "        model.optimize_restarts(10, verbose=False)\n",
    "        n = model.num_data\n",
    "        k = len(model.parameters)\n",
    "        log_likelihood = model.log_likelihood()\n",
    "        \n",
    "        bic = k * np.log(n) - 2 * log_likelihood\n",
    "        print(bic)\n",
    "        print(model)\n",
    "\n",
    "        if bic < best_bic:\n",
    "            best_model = (kernel, model)\n",
    "            best_bic = bic\n",
    "\n",
    "    print(best_bic, best_model)"
   ]
  },
  {
   "cell_type": "code",
   "execution_count": 10,
   "metadata": {},
   "outputs": [
    {
     "ename": "LinAlgError",
     "evalue": "not positive definite, even with jitter.",
     "output_type": "error",
     "traceback": [
      "\u001b[0;31m---------------------------------------------------------------------------\u001b[0m",
      "\u001b[0;31mLinAlgError\u001b[0m                               Traceback (most recent call last)",
      "Cell \u001b[0;32mIn[10], line 3\u001b[0m\n\u001b[1;32m      1\u001b[0m \u001b[38;5;28;01mimport\u001b[39;00m \u001b[38;5;21;01mwarnings\u001b[39;00m\n\u001b[1;32m      2\u001b[0m \u001b[38;5;28;01mwith\u001b[39;00m warnings\u001b[38;5;241m.\u001b[39mcatch_warnings(action\u001b[38;5;241m=\u001b[39m\u001b[38;5;124m\"\u001b[39m\u001b[38;5;124mignore\u001b[39m\u001b[38;5;124m\"\u001b[39m):\n\u001b[0;32m----> 3\u001b[0m     base_kernel_search(scaled_sobol_points, function_values\u001b[38;5;241m.\u001b[39mreshape(\u001b[38;5;241m-\u001b[39m\u001b[38;5;241m1\u001b[39m, \u001b[38;5;241m1\u001b[39m))\n",
      "Cell \u001b[0;32mIn[6], line 18\u001b[0m, in \u001b[0;36mbase_kernel_search\u001b[0;34m(X, y)\u001b[0m\n\u001b[1;32m     16\u001b[0m model \u001b[38;5;241m=\u001b[39m GPy\u001b[38;5;241m.\u001b[39mmodels\u001b[38;5;241m.\u001b[39mGPRegression(X, y, kernel, noise_var\u001b[38;5;241m=\u001b[39m\u001b[38;5;241m0.001\u001b[39m\u001b[38;5;241m*\u001b[39m\u001b[38;5;241m*\u001b[39m\u001b[38;5;241m2\u001b[39m, mean_function\u001b[38;5;241m=\u001b[39mmean)\n\u001b[1;32m     17\u001b[0m model\u001b[38;5;241m.\u001b[39mGaussian_noise\u001b[38;5;241m.\u001b[39mvariance\u001b[38;5;241m.\u001b[39mfix()\n\u001b[0;32m---> 18\u001b[0m model\u001b[38;5;241m.\u001b[39moptimize_restarts(\u001b[38;5;241m10\u001b[39m, verbose\u001b[38;5;241m=\u001b[39m\u001b[38;5;28;01mFalse\u001b[39;00m)\n\u001b[1;32m     19\u001b[0m n \u001b[38;5;241m=\u001b[39m model\u001b[38;5;241m.\u001b[39mnum_data\n\u001b[1;32m     20\u001b[0m k \u001b[38;5;241m=\u001b[39m \u001b[38;5;28mlen\u001b[39m(model\u001b[38;5;241m.\u001b[39mparameters)\n",
      "File \u001b[0;32m~/anaconda3/lib/python3.11/site-packages/paramz/model.py:182\u001b[0m, in \u001b[0;36mModel.optimize_restarts\u001b[0;34m(self, num_restarts, robust, verbose, parallel, num_processes, **kwargs)\u001b[0m\n\u001b[1;32m    180\u001b[0m             \u001b[38;5;28mprint\u001b[39m((\u001b[38;5;124m\"\u001b[39m\u001b[38;5;124mWarning - optimization restart \u001b[39m\u001b[38;5;132;01m{0}\u001b[39;00m\u001b[38;5;124m/\u001b[39m\u001b[38;5;132;01m{1}\u001b[39;00m\u001b[38;5;124m failed\u001b[39m\u001b[38;5;124m\"\u001b[39m\u001b[38;5;241m.\u001b[39mformat(i \u001b[38;5;241m+\u001b[39m \u001b[38;5;241m1\u001b[39m, num_restarts)))\n\u001b[1;32m    181\u001b[0m         \u001b[38;5;28;01melse\u001b[39;00m:\n\u001b[0;32m--> 182\u001b[0m             \u001b[38;5;28;01mraise\u001b[39;00m e\n\u001b[1;32m    184\u001b[0m \u001b[38;5;28;01mif\u001b[39;00m \u001b[38;5;28mlen\u001b[39m(\u001b[38;5;28mself\u001b[39m\u001b[38;5;241m.\u001b[39moptimization_runs) \u001b[38;5;241m>\u001b[39m initial_length:\n\u001b[1;32m    185\u001b[0m     \u001b[38;5;66;03m# This works, since failed jobs don't get added to the optimization_runs.\u001b[39;00m\n\u001b[1;32m    186\u001b[0m     i \u001b[38;5;241m=\u001b[39m np\u001b[38;5;241m.\u001b[39margmin([o\u001b[38;5;241m.\u001b[39mf_opt \u001b[38;5;28;01mfor\u001b[39;00m o \u001b[38;5;129;01min\u001b[39;00m \u001b[38;5;28mself\u001b[39m\u001b[38;5;241m.\u001b[39moptimization_runs[initial_length:]])\n",
      "File \u001b[0;32m~/anaconda3/lib/python3.11/site-packages/paramz/model.py:172\u001b[0m, in \u001b[0;36mModel.optimize_restarts\u001b[0;34m(self, num_restarts, robust, verbose, parallel, num_processes, **kwargs)\u001b[0m\n\u001b[1;32m    170\u001b[0m     \u001b[38;5;28;01mif\u001b[39;00m i \u001b[38;5;241m>\u001b[39m \u001b[38;5;241m0\u001b[39m:\n\u001b[1;32m    171\u001b[0m         \u001b[38;5;28mself\u001b[39m\u001b[38;5;241m.\u001b[39mrandomize()\n\u001b[0;32m--> 172\u001b[0m     \u001b[38;5;28mself\u001b[39m\u001b[38;5;241m.\u001b[39moptimize(\u001b[38;5;241m*\u001b[39m\u001b[38;5;241m*\u001b[39mkwargs)\n\u001b[1;32m    173\u001b[0m \u001b[38;5;28;01melse\u001b[39;00m:\u001b[38;5;66;03m#pragma: no cover\u001b[39;00m\n\u001b[1;32m    174\u001b[0m     \u001b[38;5;28mself\u001b[39m\u001b[38;5;241m.\u001b[39moptimization_runs\u001b[38;5;241m.\u001b[39mappend(jobs[i])\n",
      "File \u001b[0;32m~/anaconda3/lib/python3.11/site-packages/GPy/core/gp.py:679\u001b[0m, in \u001b[0;36mGP.optimize\u001b[0;34m(self, optimizer, start, messages, max_iters, ipython_notebook, clear_after_finish, **kwargs)\u001b[0m\n\u001b[1;32m    677\u001b[0m \u001b[38;5;28mself\u001b[39m\u001b[38;5;241m.\u001b[39minference_method\u001b[38;5;241m.\u001b[39mon_optimization_start()\n\u001b[1;32m    678\u001b[0m \u001b[38;5;28;01mtry\u001b[39;00m:\n\u001b[0;32m--> 679\u001b[0m     ret \u001b[38;5;241m=\u001b[39m \u001b[38;5;28msuper\u001b[39m(GP, \u001b[38;5;28mself\u001b[39m)\u001b[38;5;241m.\u001b[39moptimize(optimizer, start, messages, max_iters, ipython_notebook, clear_after_finish, \u001b[38;5;241m*\u001b[39m\u001b[38;5;241m*\u001b[39mkwargs)\n\u001b[1;32m    680\u001b[0m \u001b[38;5;28;01mexcept\u001b[39;00m \u001b[38;5;167;01mKeyboardInterrupt\u001b[39;00m:\n\u001b[1;32m    681\u001b[0m     \u001b[38;5;28mprint\u001b[39m(\u001b[38;5;124m\"\u001b[39m\u001b[38;5;124mKeyboardInterrupt caught, calling on_optimization_end() to round things up\u001b[39m\u001b[38;5;124m\"\u001b[39m)\n",
      "File \u001b[0;32m~/anaconda3/lib/python3.11/site-packages/paramz/model.py:113\u001b[0m, in \u001b[0;36mModel.optimize\u001b[0;34m(self, optimizer, start, messages, max_iters, ipython_notebook, clear_after_finish, **kwargs)\u001b[0m\n\u001b[1;32m    110\u001b[0m \u001b[38;5;28;01mwith\u001b[39;00m VerboseOptimization(\u001b[38;5;28mself\u001b[39m, opt, maxiters\u001b[38;5;241m=\u001b[39mmax_iters, verbose\u001b[38;5;241m=\u001b[39mmessages, ipython_notebook\u001b[38;5;241m=\u001b[39mipython_notebook, clear_after_finish\u001b[38;5;241m=\u001b[39mclear_after_finish) \u001b[38;5;28;01mas\u001b[39;00m vo:\n\u001b[1;32m    111\u001b[0m     opt\u001b[38;5;241m.\u001b[39mrun(start, f_fp\u001b[38;5;241m=\u001b[39m\u001b[38;5;28mself\u001b[39m\u001b[38;5;241m.\u001b[39m_objective_grads, f\u001b[38;5;241m=\u001b[39m\u001b[38;5;28mself\u001b[39m\u001b[38;5;241m.\u001b[39m_objective, fp\u001b[38;5;241m=\u001b[39m\u001b[38;5;28mself\u001b[39m\u001b[38;5;241m.\u001b[39m_grads)\n\u001b[0;32m--> 113\u001b[0m \u001b[38;5;28mself\u001b[39m\u001b[38;5;241m.\u001b[39moptimizer_array \u001b[38;5;241m=\u001b[39m opt\u001b[38;5;241m.\u001b[39mx_opt\n\u001b[1;32m    115\u001b[0m \u001b[38;5;28mself\u001b[39m\u001b[38;5;241m.\u001b[39moptimization_runs\u001b[38;5;241m.\u001b[39mappend(opt)\n\u001b[1;32m    116\u001b[0m \u001b[38;5;28;01mreturn\u001b[39;00m opt\n",
      "File \u001b[0;32m~/anaconda3/lib/python3.11/site-packages/paramz/parameterized.py:339\u001b[0m, in \u001b[0;36mParameterized.__setattr__\u001b[0;34m(self, name, val)\u001b[0m\n\u001b[1;32m    337\u001b[0m         param \u001b[38;5;241m=\u001b[39m \u001b[38;5;28mself\u001b[39m\u001b[38;5;241m.\u001b[39mparameters[pnames\u001b[38;5;241m.\u001b[39mindex(name)]\n\u001b[1;32m    338\u001b[0m         param[:] \u001b[38;5;241m=\u001b[39m val; \u001b[38;5;28;01mreturn\u001b[39;00m\n\u001b[0;32m--> 339\u001b[0m \u001b[38;5;28;01mreturn\u001b[39;00m \u001b[38;5;28mobject\u001b[39m\u001b[38;5;241m.\u001b[39m\u001b[38;5;21m__setattr__\u001b[39m(\u001b[38;5;28mself\u001b[39m, name, val)\n",
      "File \u001b[0;32m~/anaconda3/lib/python3.11/site-packages/paramz/core/parameter_core.py:124\u001b[0m, in \u001b[0;36mOptimizationHandlable.optimizer_array\u001b[0;34m(self, p)\u001b[0m\n\u001b[1;32m    121\u001b[0m \u001b[38;5;66;03m#self._highest_parent_.tie.propagate_val()\u001b[39;00m\n\u001b[1;32m    123\u001b[0m \u001b[38;5;28mself\u001b[39m\u001b[38;5;241m.\u001b[39m_optimizer_copy_transformed \u001b[38;5;241m=\u001b[39m \u001b[38;5;28;01mFalse\u001b[39;00m\n\u001b[0;32m--> 124\u001b[0m \u001b[38;5;28mself\u001b[39m\u001b[38;5;241m.\u001b[39mtrigger_update()\n",
      "File \u001b[0;32m~/anaconda3/lib/python3.11/site-packages/paramz/core/updateable.py:79\u001b[0m, in \u001b[0;36mUpdateable.trigger_update\u001b[0;34m(self, trigger_parent)\u001b[0m\n\u001b[1;32m     76\u001b[0m \u001b[38;5;28;01mif\u001b[39;00m \u001b[38;5;129;01mnot\u001b[39;00m \u001b[38;5;28mself\u001b[39m\u001b[38;5;241m.\u001b[39mupdate_model() \u001b[38;5;129;01mor\u001b[39;00m (\u001b[38;5;28mhasattr\u001b[39m(\u001b[38;5;28mself\u001b[39m, \u001b[38;5;124m\"\u001b[39m\u001b[38;5;124m_in_init_\u001b[39m\u001b[38;5;124m\"\u001b[39m) \u001b[38;5;129;01mand\u001b[39;00m \u001b[38;5;28mself\u001b[39m\u001b[38;5;241m.\u001b[39m_in_init_):\n\u001b[1;32m     77\u001b[0m     \u001b[38;5;66;03m#print \"Warning: updates are off, updating the model will do nothing\"\u001b[39;00m\n\u001b[1;32m     78\u001b[0m     \u001b[38;5;28;01mreturn\u001b[39;00m\n\u001b[0;32m---> 79\u001b[0m \u001b[38;5;28mself\u001b[39m\u001b[38;5;241m.\u001b[39m_trigger_params_changed(trigger_parent)\n",
      "File \u001b[0;32m~/anaconda3/lib/python3.11/site-packages/paramz/core/parameter_core.py:134\u001b[0m, in \u001b[0;36mOptimizationHandlable._trigger_params_changed\u001b[0;34m(self, trigger_parent)\u001b[0m\n\u001b[1;32m    127\u001b[0m \u001b[38;5;250m\u001b[39m\u001b[38;5;124;03m\"\"\"\u001b[39;00m\n\u001b[1;32m    128\u001b[0m \u001b[38;5;124;03mFirst tell all children to update,\u001b[39;00m\n\u001b[1;32m    129\u001b[0m \u001b[38;5;124;03mthen update yourself.\u001b[39;00m\n\u001b[1;32m    130\u001b[0m \n\u001b[1;32m    131\u001b[0m \u001b[38;5;124;03mIf trigger_parent is True, we will tell the parent, otherwise not.\u001b[39;00m\n\u001b[1;32m    132\u001b[0m \u001b[38;5;124;03m\"\"\"\u001b[39;00m\n\u001b[1;32m    133\u001b[0m [p\u001b[38;5;241m.\u001b[39m_trigger_params_changed(trigger_parent\u001b[38;5;241m=\u001b[39m\u001b[38;5;28;01mFalse\u001b[39;00m) \u001b[38;5;28;01mfor\u001b[39;00m p \u001b[38;5;129;01min\u001b[39;00m \u001b[38;5;28mself\u001b[39m\u001b[38;5;241m.\u001b[39mparameters \u001b[38;5;28;01mif\u001b[39;00m \u001b[38;5;129;01mnot\u001b[39;00m p\u001b[38;5;241m.\u001b[39mis_fixed]\n\u001b[0;32m--> 134\u001b[0m \u001b[38;5;28mself\u001b[39m\u001b[38;5;241m.\u001b[39mnotify_observers(\u001b[38;5;28;01mNone\u001b[39;00m, \u001b[38;5;28;01mNone\u001b[39;00m \u001b[38;5;28;01mif\u001b[39;00m trigger_parent \u001b[38;5;28;01melse\u001b[39;00m \u001b[38;5;241m-\u001b[39mnp\u001b[38;5;241m.\u001b[39minf)\n",
      "File \u001b[0;32m~/anaconda3/lib/python3.11/site-packages/paramz/core/observable.py:91\u001b[0m, in \u001b[0;36mObservable.notify_observers\u001b[0;34m(self, which, min_priority)\u001b[0m\n\u001b[1;32m     89\u001b[0m     which \u001b[38;5;241m=\u001b[39m \u001b[38;5;28mself\u001b[39m\n\u001b[1;32m     90\u001b[0m \u001b[38;5;28;01mif\u001b[39;00m min_priority \u001b[38;5;129;01mis\u001b[39;00m \u001b[38;5;28;01mNone\u001b[39;00m:\n\u001b[0;32m---> 91\u001b[0m     [callble(\u001b[38;5;28mself\u001b[39m, which\u001b[38;5;241m=\u001b[39mwhich) \u001b[38;5;28;01mfor\u001b[39;00m _, _, callble \u001b[38;5;129;01min\u001b[39;00m \u001b[38;5;28mself\u001b[39m\u001b[38;5;241m.\u001b[39mobservers]\n\u001b[1;32m     92\u001b[0m \u001b[38;5;28;01melse\u001b[39;00m:\n\u001b[1;32m     93\u001b[0m     \u001b[38;5;28;01mfor\u001b[39;00m p, _, callble \u001b[38;5;129;01min\u001b[39;00m \u001b[38;5;28mself\u001b[39m\u001b[38;5;241m.\u001b[39mobservers:\n",
      "File \u001b[0;32m~/anaconda3/lib/python3.11/site-packages/paramz/core/observable.py:91\u001b[0m, in \u001b[0;36m<listcomp>\u001b[0;34m(.0)\u001b[0m\n\u001b[1;32m     89\u001b[0m     which \u001b[38;5;241m=\u001b[39m \u001b[38;5;28mself\u001b[39m\n\u001b[1;32m     90\u001b[0m \u001b[38;5;28;01mif\u001b[39;00m min_priority \u001b[38;5;129;01mis\u001b[39;00m \u001b[38;5;28;01mNone\u001b[39;00m:\n\u001b[0;32m---> 91\u001b[0m     [callble(\u001b[38;5;28mself\u001b[39m, which\u001b[38;5;241m=\u001b[39mwhich) \u001b[38;5;28;01mfor\u001b[39;00m _, _, callble \u001b[38;5;129;01min\u001b[39;00m \u001b[38;5;28mself\u001b[39m\u001b[38;5;241m.\u001b[39mobservers]\n\u001b[1;32m     92\u001b[0m \u001b[38;5;28;01melse\u001b[39;00m:\n\u001b[1;32m     93\u001b[0m     \u001b[38;5;28;01mfor\u001b[39;00m p, _, callble \u001b[38;5;129;01min\u001b[39;00m \u001b[38;5;28mself\u001b[39m\u001b[38;5;241m.\u001b[39mobservers:\n",
      "File \u001b[0;32m~/anaconda3/lib/python3.11/site-packages/paramz/core/parameter_core.py:508\u001b[0m, in \u001b[0;36mParameterizable._parameters_changed_notification\u001b[0;34m(self, me, which)\u001b[0m\n\u001b[1;32m    503\u001b[0m \u001b[38;5;250m\u001b[39m\u001b[38;5;124;03m\"\"\"\u001b[39;00m\n\u001b[1;32m    504\u001b[0m \u001b[38;5;124;03mIn parameterizable we just need to make sure, that the next call to optimizer_array\u001b[39;00m\n\u001b[1;32m    505\u001b[0m \u001b[38;5;124;03mwill update the optimizer_array to the latest parameters\u001b[39;00m\n\u001b[1;32m    506\u001b[0m \u001b[38;5;124;03m\"\"\"\u001b[39;00m\n\u001b[1;32m    507\u001b[0m \u001b[38;5;28mself\u001b[39m\u001b[38;5;241m.\u001b[39m_optimizer_copy_transformed \u001b[38;5;241m=\u001b[39m \u001b[38;5;28;01mFalse\u001b[39;00m \u001b[38;5;66;03m# tells the optimizer array to update on next request\u001b[39;00m\n\u001b[0;32m--> 508\u001b[0m \u001b[38;5;28mself\u001b[39m\u001b[38;5;241m.\u001b[39mparameters_changed()\n",
      "File \u001b[0;32m~/anaconda3/lib/python3.11/site-packages/GPy/core/gp.py:278\u001b[0m, in \u001b[0;36mGP.parameters_changed\u001b[0;34m(self)\u001b[0m\n\u001b[1;32m    269\u001b[0m \u001b[38;5;28;01mdef\u001b[39;00m \u001b[38;5;21mparameters_changed\u001b[39m(\u001b[38;5;28mself\u001b[39m):\n\u001b[1;32m    270\u001b[0m \u001b[38;5;250m    \u001b[39m\u001b[38;5;124;03m\"\"\"\u001b[39;00m\n\u001b[1;32m    271\u001b[0m \u001b[38;5;124;03m    Method that is called upon any changes to :class:`~GPy.core.parameterization.param.Param` variables within the model.\u001b[39;00m\n\u001b[1;32m    272\u001b[0m \u001b[38;5;124;03m    In particular in the GP class this method re-performs inference, recalculating the posterior and log marginal likelihood and gradients of the model\u001b[39;00m\n\u001b[0;32m   (...)\u001b[0m\n\u001b[1;32m    276\u001b[0m \u001b[38;5;124;03m        this method yourself, there may be unexpected consequences.\u001b[39;00m\n\u001b[1;32m    277\u001b[0m \u001b[38;5;124;03m    \"\"\"\u001b[39;00m\n\u001b[0;32m--> 278\u001b[0m     \u001b[38;5;28mself\u001b[39m\u001b[38;5;241m.\u001b[39mposterior, \u001b[38;5;28mself\u001b[39m\u001b[38;5;241m.\u001b[39m_log_marginal_likelihood, \u001b[38;5;28mself\u001b[39m\u001b[38;5;241m.\u001b[39mgrad_dict \u001b[38;5;241m=\u001b[39m \u001b[38;5;28mself\u001b[39m\u001b[38;5;241m.\u001b[39minference_method\u001b[38;5;241m.\u001b[39minference(\u001b[38;5;28mself\u001b[39m\u001b[38;5;241m.\u001b[39mkern, \u001b[38;5;28mself\u001b[39m\u001b[38;5;241m.\u001b[39mX, \u001b[38;5;28mself\u001b[39m\u001b[38;5;241m.\u001b[39mlikelihood, \u001b[38;5;28mself\u001b[39m\u001b[38;5;241m.\u001b[39mY_normalized, \u001b[38;5;28mself\u001b[39m\u001b[38;5;241m.\u001b[39mmean_function, \u001b[38;5;28mself\u001b[39m\u001b[38;5;241m.\u001b[39mY_metadata)\n\u001b[1;32m    279\u001b[0m     \u001b[38;5;28mself\u001b[39m\u001b[38;5;241m.\u001b[39mlikelihood\u001b[38;5;241m.\u001b[39mupdate_gradients(\u001b[38;5;28mself\u001b[39m\u001b[38;5;241m.\u001b[39mgrad_dict[\u001b[38;5;124m'\u001b[39m\u001b[38;5;124mdL_dthetaL\u001b[39m\u001b[38;5;124m'\u001b[39m])\n\u001b[1;32m    280\u001b[0m     \u001b[38;5;28mself\u001b[39m\u001b[38;5;241m.\u001b[39mkern\u001b[38;5;241m.\u001b[39mupdate_gradients_full(\u001b[38;5;28mself\u001b[39m\u001b[38;5;241m.\u001b[39mgrad_dict[\u001b[38;5;124m'\u001b[39m\u001b[38;5;124mdL_dK\u001b[39m\u001b[38;5;124m'\u001b[39m], \u001b[38;5;28mself\u001b[39m\u001b[38;5;241m.\u001b[39mX)\n",
      "File \u001b[0;32m~/anaconda3/lib/python3.11/site-packages/GPy/inference/latent_function_inference/exact_gaussian_inference.py:58\u001b[0m, in \u001b[0;36mExactGaussianInference.inference\u001b[0;34m(self, kern, X, likelihood, Y, mean_function, Y_metadata, K, variance, Z_tilde)\u001b[0m\n\u001b[1;32m     55\u001b[0m Ky \u001b[38;5;241m=\u001b[39m K\u001b[38;5;241m.\u001b[39mcopy()\n\u001b[1;32m     56\u001b[0m diag\u001b[38;5;241m.\u001b[39madd(Ky, variance\u001b[38;5;241m+\u001b[39m\u001b[38;5;241m1e-8\u001b[39m)\n\u001b[0;32m---> 58\u001b[0m Wi, LW, LWi, W_logdet \u001b[38;5;241m=\u001b[39m pdinv(Ky)\n\u001b[1;32m     60\u001b[0m alpha, _ \u001b[38;5;241m=\u001b[39m dpotrs(LW, YYT_factor, lower\u001b[38;5;241m=\u001b[39m\u001b[38;5;241m1\u001b[39m)\n\u001b[1;32m     62\u001b[0m log_marginal \u001b[38;5;241m=\u001b[39m  \u001b[38;5;241m0.5\u001b[39m\u001b[38;5;241m*\u001b[39m(\u001b[38;5;241m-\u001b[39mY\u001b[38;5;241m.\u001b[39msize \u001b[38;5;241m*\u001b[39m log_2_pi \u001b[38;5;241m-\u001b[39m Y\u001b[38;5;241m.\u001b[39mshape[\u001b[38;5;241m1\u001b[39m] \u001b[38;5;241m*\u001b[39m W_logdet \u001b[38;5;241m-\u001b[39m np\u001b[38;5;241m.\u001b[39msum(alpha \u001b[38;5;241m*\u001b[39m YYT_factor))\n",
      "File \u001b[0;32m~/anaconda3/lib/python3.11/site-packages/GPy/util/linalg.py:207\u001b[0m, in \u001b[0;36mpdinv\u001b[0;34m(A, *args)\u001b[0m\n\u001b[1;32m    193\u001b[0m \u001b[38;5;28;01mdef\u001b[39;00m \u001b[38;5;21mpdinv\u001b[39m(A, \u001b[38;5;241m*\u001b[39margs):\n\u001b[1;32m    194\u001b[0m \u001b[38;5;250m    \u001b[39m\u001b[38;5;124;03m\"\"\"\u001b[39;00m\n\u001b[1;32m    195\u001b[0m \u001b[38;5;124;03m    :param A: A DxD pd numpy array\u001b[39;00m\n\u001b[1;32m    196\u001b[0m \n\u001b[0;32m   (...)\u001b[0m\n\u001b[1;32m    205\u001b[0m \n\u001b[1;32m    206\u001b[0m \u001b[38;5;124;03m    \"\"\"\u001b[39;00m\n\u001b[0;32m--> 207\u001b[0m     L \u001b[38;5;241m=\u001b[39m jitchol(A, \u001b[38;5;241m*\u001b[39margs)\n\u001b[1;32m    208\u001b[0m     logdet \u001b[38;5;241m=\u001b[39m \u001b[38;5;241m2.\u001b[39m\u001b[38;5;241m*\u001b[39mnp\u001b[38;5;241m.\u001b[39msum(np\u001b[38;5;241m.\u001b[39mlog(np\u001b[38;5;241m.\u001b[39mdiag(L)))\n\u001b[1;32m    209\u001b[0m     Li \u001b[38;5;241m=\u001b[39m dtrtri(L)\n",
      "File \u001b[0;32m~/anaconda3/lib/python3.11/site-packages/GPy/util/linalg.py:75\u001b[0m, in \u001b[0;36mjitchol\u001b[0;34m(A, maxtries)\u001b[0m\n\u001b[1;32m     73\u001b[0m         \u001b[38;5;28;01mfinally\u001b[39;00m:\n\u001b[1;32m     74\u001b[0m             num_tries \u001b[38;5;241m+\u001b[39m\u001b[38;5;241m=\u001b[39m \u001b[38;5;241m1\u001b[39m\n\u001b[0;32m---> 75\u001b[0m     \u001b[38;5;28;01mraise\u001b[39;00m linalg\u001b[38;5;241m.\u001b[39mLinAlgError(\u001b[38;5;124m\"\u001b[39m\u001b[38;5;124mnot positive definite, even with jitter.\u001b[39m\u001b[38;5;124m\"\u001b[39m)\n\u001b[1;32m     76\u001b[0m \u001b[38;5;28;01mimport\u001b[39;00m \u001b[38;5;21;01mtraceback\u001b[39;00m\n\u001b[1;32m     77\u001b[0m \u001b[38;5;28;01mtry\u001b[39;00m: \u001b[38;5;28;01mraise\u001b[39;00m\n",
      "\u001b[0;31mLinAlgError\u001b[0m: not positive definite, even with jitter."
     ]
    }
   ],
   "source": [
    "import warnings\n",
    "with warnings.catch_warnings(action=\"ignore\"):\n",
    "    base_kernel_search(scaled_sobol_points, function_values.reshape(-1, 1))"
   ]
  },
  {
   "cell_type": "code",
   "execution_count": null,
   "metadata": {},
   "outputs": [],
   "source": [
    "def kernel_search(X, y):\n",
    "    kernel_comp = [GPy.kern.RBF(input_dim=X.shape[1], variance=1.0, lengthscale=1.0), \n",
    "                         GPy.kern.RatQuad(input_dim=X.shape[1], variance = 1.0, lengthscale= 1.0),\n",
    "                         GPy.kern.Matern32(input_dim=X.shape[1], variance = 1.0, lengthscale= 1.0),\n",
    "                         GPy.kern.Matern52(input_dim=X.shape[1], variance = 1.0, lengthscale= 1.0),\n",
    "                         GPy.kern.StdPeriodic(input_dim=X.shape[1], variance = 1.0, lengthscale= 1.0),\n",
    "                         GPy.kern.Exponential(input_dim=X.shape[1], variance = 1.0, lengthscale= 1.0)]\n",
    "    \n",
    "    best_model = None\n",
    "    best_bic = float('inf')\n",
    "    mean_comp = [GPy.mappings.Constant(input_dim = X.shape[1], output_dim = 1, value = np.mean(y)), \n",
    "            GPy.mappings.Linear(input_dim = X.shape[1], output_dim = 1)]\n",
    "\n",
    "\n",
    "    for kernel1 in kernel_comp:\n",
    "        for kernel2 in kernel_comp:\n",
    "            for mean in mean_comp:\n",
    "                # Combine kernels\n",
    "                kernel = kernel1 + kernel2\n",
    "                model = GPy.models.GPRegression(X, y, kernel, noise_var=0.001**2, mean_function=mean)\n",
    "                model.Gaussian_noise.variance.fix()\n",
    "                model.optimize_restarts(10, verbose=False)\n",
    "                n = model.num_data\n",
    "                k = len(model.optimizer_array)\n",
    "                log_likelihood = model.log_likelihood()\n",
    "                \n",
    "                bic = k * np.log(n) - 2 * log_likelihood\n",
    "                print(bic)\n",
    "                print(model)\n",
    "\n",
    "                if bic < best_bic:\n",
    "                    best_model = (kernel, model)\n",
    "                    best_bic = bic\n",
    "\n",
    "    print(best_bic, best_model)"
   ]
  },
  {
   "cell_type": "code",
   "execution_count": null,
   "metadata": {},
   "outputs": [],
   "source": [
    "import warnings\n",
    "with warnings.catch_warnings(action=\"ignore\"):\n",
    "    kernel_search(scaled_sobol_points, function_values.reshape(-1, 1))"
   ]
  },
  {
   "cell_type": "code",
   "execution_count": 89,
   "metadata": {},
   "outputs": [],
   "source": [
    "def best_kernel_search(X, y):\n",
    "    \n",
    "    kernel = GPy.kern.StdPeriodic(input_dim=X.shape[1], variance = 1.0, lengthscale= 1.0) + GPy.kern.RBF(input_dim=X.shape[1], variance=1.0, lengthscale=1.0)\n",
    "    mean = GPy.mappings.Constant(input_dim = X.shape[1], output_dim = 1, value = np.mean(y))\n",
    "    model = GPy.models.GPRegression(X, y, kernel, noise_var=0.001**2, mean_function=mean)\n",
    "    model.Gaussian_noise.variance.fix()\n",
    "    model.optimize_restarts(100, verbose=False)\n",
    "\n",
    "    n = model.num_data\n",
    "    k = len(model.optimizer_array)\n",
    "    log_likelihood = model.log_likelihood()\n",
    "    \n",
    "    bic = k * np.log(n) - 2 * log_likelihood\n",
    "    print(bic)\n",
    "    print(model)\n",
    "\n",
    "    return model"
   ]
  },
  {
   "cell_type": "code",
   "execution_count": 91,
   "metadata": {},
   "outputs": [
    {
     "name": "stderr",
     "output_type": "stream",
     "text": [
      " /Users/anthonychiang/.pyenv/versions/3.11.5/lib/python3.11/site-packages/GPy/kern/src/standard_periodic.py:131: RuntimeWarning:overflow encountered in square\n",
      " /Users/anthonychiang/.pyenv/versions/3.11.5/lib/python3.11/site-packages/GPy/kern/src/standard_periodic.py:509: RuntimeWarning:overflow encountered in square\n",
      " /Users/anthonychiang/.pyenv/versions/3.11.5/lib/python3.11/site-packages/GPy/kern/src/standard_periodic.py:511: RuntimeWarning:divide by zero encountered in divide\n",
      " /Users/anthonychiang/.pyenv/versions/3.11.5/lib/python3.11/site-packages/GPy/kern/src/standard_periodic.py:511: RuntimeWarning:invalid value encountered in multiply\n",
      " /Users/anthonychiang/.pyenv/versions/3.11.5/lib/python3.11/site-packages/GPy/kern/src/standard_periodic.py:513: RuntimeWarning:divide by zero encountered in divide\n",
      " /Users/anthonychiang/.pyenv/versions/3.11.5/lib/python3.11/site-packages/GPy/kern/src/standard_periodic.py:513: RuntimeWarning:invalid value encountered in divide\n",
      " /Users/anthonychiang/.pyenv/versions/3.11.5/lib/python3.11/site-packages/numpy/core/_methods.py:49: RuntimeWarning:invalid value encountered in reduce\n",
      " /Users/anthonychiang/.pyenv/versions/3.11.5/lib/python3.11/site-packages/GPy/kern/src/standard_periodic.py:521: RuntimeWarning:invalid value encountered in multiply\n",
      " /Users/anthonychiang/.pyenv/versions/3.11.5/lib/python3.11/site-packages/GPy/kern/src/standard_periodic.py:526: RuntimeWarning:invalid value encountered in multiply\n",
      " /Users/anthonychiang/.pyenv/versions/3.11.5/lib/python3.11/site-packages/GPy/kern/src/standard_periodic.py:130: RuntimeWarning:overflow encountered in divide\n",
      " /Users/anthonychiang/.pyenv/versions/3.11.5/lib/python3.11/site-packages/GPy/kern/src/standard_periodic.py:131: RuntimeWarning:invalid value encountered in sin\n",
      " /Users/anthonychiang/.pyenv/versions/3.11.5/lib/python3.11/site-packages/GPy/kern/src/standard_periodic.py:506: RuntimeWarning:overflow encountered in divide\n",
      " /Users/anthonychiang/.pyenv/versions/3.11.5/lib/python3.11/site-packages/GPy/kern/src/standard_periodic.py:508: RuntimeWarning:invalid value encountered in sin\n",
      " /Users/anthonychiang/.pyenv/versions/3.11.5/lib/python3.11/site-packages/GPy/kern/src/standard_periodic.py:511: RuntimeWarning:invalid value encountered in cos\n",
      " /Users/anthonychiang/.pyenv/versions/3.11.5/lib/python3.11/site-packages/GPy/kern/src/standard_periodic.py:511: RuntimeWarning:overflow encountered in divide\n"
     ]
    },
    {
     "name": "stdout",
     "output_type": "stream",
     "text": [
      "73.19605043468091\n",
      "\n",
      "Name : GP regression\n",
      "Objective : 26.200817508941277\n",
      "Number of Parameters : 7\n",
      "Number of Optimization Parameters : 6\n",
      "Updates : True\n",
      "Parameters:\n",
      "  \u001b[1mGP_regression.              \u001b[0;0m  |                value  |  constraints  |  priors\n",
      "  \u001b[1mconstmap.C                  \u001b[0;0m  |   4.6311931729516935  |               |        \n",
      "  \u001b[1msum.std_periodic.variance   \u001b[0;0m  |   0.2750368006713868  |      +ve      |        \n",
      "  \u001b[1msum.std_periodic.period     \u001b[0;0m  |  0.19804650103615534  |      +ve      |        \n",
      "  \u001b[1msum.std_periodic.lengthscale\u001b[0;0m  |  0.39405807496177914  |      +ve      |        \n",
      "  \u001b[1msum.rbf.variance            \u001b[0;0m  |   1.1217928115868112  |      +ve      |        \n",
      "  \u001b[1msum.rbf.lengthscale         \u001b[0;0m  |   1.3178881298142384  |      +ve      |        \n",
      "  \u001b[1mGaussian_noise.variance     \u001b[0;0m  |                1e-06  |   +ve fixed   |        \n"
     ]
    }
   ],
   "source": [
    "store = best_kernel_search(scaled_sobol_points, function_values.reshape(-1, 1))"
   ]
  },
  {
   "cell_type": "code",
   "execution_count": null,
   "metadata": {},
   "outputs": [
    {
     "name": "stdout",
     "output_type": "stream",
     "text": [
      "1.5143817062113494\n"
     ]
    }
   ],
   "source": [
    "prob_imp = np.min(function_values)\n"
   ]
  }
 ],
 "metadata": {
  "kernelspec": {
   "display_name": "base",
   "language": "python",
   "name": "python3"
  },
  "language_info": {
   "codemirror_mode": {
    "name": "ipython",
    "version": 3
   },
   "file_extension": ".py",
   "mimetype": "text/x-python",
   "name": "python",
   "nbconvert_exporter": "python",
   "pygments_lexer": "ipython3",
   "version": "3.11.7"
  }
 },
 "nbformat": 4,
 "nbformat_minor": 2
}
