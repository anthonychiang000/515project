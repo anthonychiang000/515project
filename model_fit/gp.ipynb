{
 "cells": [
  {
   "cell_type": "code",
   "execution_count": 17,
   "metadata": {},
   "outputs": [],
   "source": [
    "import numpy as np\n",
    "import math\n",
    "import GPy\n",
    "import matplotlib.pyplot as plt\n",
    "import seaborn"
   ]
  },
  {
   "cell_type": "code",
   "execution_count": 18,
   "metadata": {},
   "outputs": [
    {
     "name": "stdout",
     "output_type": "stream",
     "text": [
      "Point [-2. -2.]: Value 24376.0\n",
      "Point [0. 0.]: Value 600.0\n",
      "Point [ 1. -1.]: Value 7100.0\n",
      "Point [-1.  1.]: Value 87100.0\n",
      "Point [-0.5 -0.5]: Value 32.6875\n",
      "Point [1.5 1.5]: Value 9079.6875\n",
      "Point [ 0.5 -1.5]: Value 657.6875\n",
      "Point [-1.5  0.5]: Value 3082.6875\n",
      "Point [-1.25 -0.75]: Value 1883.203125\n",
      "Point [0.75 1.25]: Value 10647.328125\n",
      "Point [ 1.75 -1.75]: Value 165496.484375\n",
      "Point [-0.25  0.25]: Value 1933.984375\n",
      "Point [-0.75 -1.25]: Value 945.703125\n",
      "Point [1.25 0.75]: Value 864.828125\n",
      "Point [ 0.25 -0.25]: Value 683.984375\n",
      "Point [-1.75  1.75]: Value 594246.484375\n",
      "Point [-1.625 -0.125]: Value 23405.27881717682\n",
      "Point [0.375 1.875]: Value 117720.69141483307\n",
      "Point [ 1.375 -1.125]: Value 31915.57746219635\n",
      "Point [-0.625  0.875]: Value 48667.60840702057\n",
      "Point [-0.125 -1.625]: Value 6274.446373939514\n",
      "Point [1.875 0.375]: Value 207.68001651763916\n",
      "Point [ 0.875 -0.625]: Value 571.5409784317017\n",
      "Point [-1.125  1.375]: Value 251592.9017572403\n",
      "Point [-1.375 -1.375]: Value 8176.620217323303\n",
      "Point [0.625 0.625]: Value 1338.0695581436157\n",
      "Point [ 1.625 -0.375]: Value 4324.27179813385\n",
      "Point [-0.375  1.625]: Value 208509.79578495026\n",
      "Point [-0.875 -0.875]: Value 1066.8025598526\n",
      "Point [1.125 1.125]: Value 2361.7494592666626\n",
      "Point [ 0.125 -1.875]: Value 30048.420449256897\n",
      "Point [-1.875  0.125]: Value 71319.43149662018\n",
      "\n",
      "Approximate minimum (using Sobol sampling):\n",
      "Point: [-0.5 -0.5]\n",
      "Value: 32.6875\n"
     ]
    }
   ],
   "source": [
    "import numpy as np\n",
    "from scipy.stats import qmc\n",
    "from scipy.optimize import rosen  # Example (replace with Goldstein-Price)\n",
    "\n",
    "# Goldstein-Price function (as defined in previous responses)\n",
    "def goldstein_price(x):\n",
    "    x1 = x[0]\n",
    "    x2 = x[1]\n",
    "    return (1 + (x1 + x2 + 1)**2 * (19 - 14*x1 + 3*x1**2 - 14*x2 + 6*x1*x2 + 3*x2**2)) * \\\n",
    "           (30 + (2*x1 - 3*x2)**2 * (18 - 32*x1 + 12*x1**2 + 48*x2 - 36*x1*x2 + 27*x2**2))\n",
    "\n",
    "\n",
    "\n",
    "# Dimensionality of the problem\n",
    "d = 2  # For Goldstein-Price (x1 and x2)\n",
    "\n",
    "# Number of samples\n",
    "n_samples = 32\n",
    "\n",
    "# Create a Sobol sequence generator\n",
    "sobol_engine = qmc.Sobol(d=d, scramble=False)  # scramble=True for better properties in high dimensions\n",
    "\n",
    "# Generate Sobol points\n",
    "sobol_points = sobol_engine.random_base2(m=int(np.log2(n_samples)))\n",
    "\n",
    "\n",
    "# If n_samples is not a power of 2: (important!)\n",
    "if not (n_samples != 0 and (n_samples & (n_samples - 1) == 0)): # Check if n_samples is not a power of 2\n",
    "    sobol_points = sobol_engine.random(n=n_samples) #use random if not power of two\n",
    "\n",
    "\n",
    "# Scale and shift to the Goldstein-Price domain [-2, 2]\n",
    "domain_min = -2\n",
    "domain_max = 2\n",
    "scaled_sobol_points = domain_min + (domain_max - domain_min) * sobol_points\n",
    "\n",
    "# Evaluate the function\n",
    "function_values = np.array([goldstein_price(point) for point in scaled_sobol_points])\n",
    "\n",
    "\n",
    "\n",
    "# Print the results (optional)\n",
    "for i in range(n_samples):\n",
    "    print(f\"Point {scaled_sobol_points[i]}: Value {function_values[i]}\")\n",
    "\n",
    "# Example: Find the minimum (basic example)\n",
    "min_index = np.argmin(function_values)\n",
    "min_point = scaled_sobol_points[min_index]\n",
    "min_value = function_values[min_index]\n",
    "\n",
    "print(\"\\nApproximate minimum (using Sobol sampling):\")\n",
    "print(f\"Point: {min_point}\")\n",
    "print(f\"Value: {min_value}\")"
   ]
  },
  {
   "cell_type": "code",
   "execution_count": 19,
   "metadata": {},
   "outputs": [],
   "source": [
    "def generate_data():\n",
    "    data = np.loadtxt('./../lda.csv', delimiter=\",\")\n",
    "    sample = np.random.choice(data.shape[0], size = 32, replace=False)\n",
    "    samp_data = data[sample]\n",
    "    #X = samp_data[:, :-1]\n",
    "    #y = samp_data[:, -1].reshape(-1, 1)\n",
    "    X = data[:, :-2]\n",
    "    y = data[:, -1].reshape(-1, 1)\n",
    "    return X, y\n",
    "\n",
    "def fit_gaussian_gpy(X, y):\n",
    "    k = GPy.kern.RBF(input_dim=X.shape[1], variance=1.0, lengthscale=1.0)  # No need for separate constant kernel in the product\n",
    "    mean = GPy.mappings.Constant(input_dim = X.shape[1], output_dim = 1, value = 0)\n",
    "    model = GPy.models.GPRegression(X, y, k, noise_var=0.001**2, mean_function=mean)\n",
    "\n",
    "    model.Gaussian_noise.variance.fix()\n",
    "    #model.kern.lengthscale.constrain_bounded(1e-15, 1e15)\n",
    "    #model.kern.variance.constrain_bounded(1e-20, 1e20)  # Constrain variance of RBF\n",
    "\n",
    "    model.optimize_restarts(100, verbose=False)  \n",
    "\n",
    "    print(model)  \n",
    "    print(model.log_likelihood())\n",
    "    #print(\"RBF variance:\", model.kern.variance)\n",
    "    #print(\"RBF lengthscale:\", model.kern.lengthscale)\n",
    "    #print(\"Constant Mean:\", model.mean_function)\n",
    "    print(\"BIC:\", 3 * math.log(32) - 2 * model.log_likelihood())"
   ]
  },
  {
   "cell_type": "code",
   "execution_count": null,
   "metadata": {},
   "outputs": [],
   "source": []
  },
  {
   "cell_type": "code",
   "execution_count": 20,
   "metadata": {},
   "outputs": [
    {
     "name": "stderr",
     "output_type": "stream",
     "text": [
      " /Users/anthonychiang/.pyenv/versions/3.11.5/lib/python3.11/site-packages/GPy/kern/src/rbf.py:52: RuntimeWarning:overflow encountered in square\n",
      " /Users/anthonychiang/.pyenv/versions/3.11.5/lib/python3.11/site-packages/GPy/kern/src/stationary.py:168: RuntimeWarning:overflow encountered in divide\n",
      " /Users/anthonychiang/.pyenv/versions/3.11.5/lib/python3.11/site-packages/GPy/kern/src/rbf.py:178: RuntimeWarning:invalid value encountered in multiply\n"
     ]
    },
    {
     "name": "stdout",
     "output_type": "stream",
     "text": [
      "\n",
      "Name : GP regression\n",
      "Objective : 495.70835365268374\n",
      "Number of Parameters : 4\n",
      "Number of Optimization Parameters : 3\n",
      "Updates : True\n",
      "Parameters:\n",
      "  \u001b[1mGP_regression.         \u001b[0;0m  |               value  |  constraints  |  priors\n",
      "  \u001b[1mconstmap.C             \u001b[0;0m  |   95102.97530261982  |               |        \n",
      "  \u001b[1mrbf.variance           \u001b[0;0m  |   1261565301.806181  |      +ve      |        \n",
      "  \u001b[1mrbf.lengthscale        \u001b[0;0m  |  0.5629718458820308  |      +ve      |        \n",
      "  \u001b[1mGaussian_noise.variance\u001b[0;0m  |               1e-06  |   +ve fixed   |        \n",
      "-495.70835365268374\n",
      "BIC: 1001.8139150137666\n"
     ]
    }
   ],
   "source": [
    "fit_gaussian_gpy(scaled_sobol_points, function_values.reshape(-1, 1))"
   ]
  },
  {
   "cell_type": "code",
   "execution_count": 21,
   "metadata": {},
   "outputs": [
    {
     "name": "stdout",
     "output_type": "stream",
     "text": [
      "\n",
      "Name : GP regression\n",
      "Objective : 64.20627488842976\n",
      "Number of Parameters : 4\n",
      "Number of Optimization Parameters : 3\n",
      "Updates : True\n",
      "Parameters:\n",
      "  \u001b[1mGP_regression.         \u001b[0;0m  |               value  |  constraints  |  priors\n",
      "  \u001b[1mconstmap.C             \u001b[0;0m  |   9.161737105898371  |               |        \n",
      "  \u001b[1mrbf.variance           \u001b[0;0m  |   5.135553548767081  |      +ve      |        \n",
      "  \u001b[1mrbf.lengthscale        \u001b[0;0m  |  0.4696869272997326  |      +ve      |        \n",
      "  \u001b[1mGaussian_noise.variance\u001b[0;0m  |               1e-06  |   +ve fixed   |        \n",
      "-64.20627488842976\n",
      "BIC: 138.8097574852587\n"
     ]
    }
   ],
   "source": [
    "function_values_log = np.log(function_values)\n",
    "fit_gaussian_gpy(scaled_sobol_points, function_values_log.reshape(-1, 1))"
   ]
  }
 ],
 "metadata": {
  "kernelspec": {
   "display_name": "3.11.5",
   "language": "python",
   "name": "python3"
  },
  "language_info": {
   "codemirror_mode": {
    "name": "ipython",
    "version": 3
   },
   "file_extension": ".py",
   "mimetype": "text/x-python",
   "name": "python",
   "nbconvert_exporter": "python",
   "pygments_lexer": "ipython3",
   "version": "3.11.5"
  }
 },
 "nbformat": 4,
 "nbformat_minor": 2
}
