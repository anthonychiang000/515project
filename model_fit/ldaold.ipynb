{
 "cells": [
  {
   "cell_type": "code",
   "execution_count": 68,
   "metadata": {},
   "outputs": [],
   "source": [
    "import numpy as np\n",
    "import math\n",
    "import GPy\n",
    "import matplotlib.pyplot as plt\n",
    "import seaborn"
   ]
  },
  {
   "cell_type": "code",
   "execution_count": 75,
   "metadata": {},
   "outputs": [],
   "source": [
    "def generate_data():\n",
    "    data = np.loadtxt('./../lda.csv', delimiter=\",\")\n",
    "    sample = np.random.choice(data.shape[0], size = 32, replace=False)\n",
    "    samp_data = data[sample]\n",
    "    #X = samp_data[:, :-1]\n",
    "    #y = samp_data[:, -1].reshape(-1, 1)\n",
    "    X = data[:, :-1]\n",
    "    y = data[:, -1].reshape(-1, 1)\n",
    "    return X, y\n",
    "\n",
    "def fit_gaussian_gpy(X, y):\n",
    "    k = GPy.kern.RBF(input_dim=X.shape[1], variance=1.0, lengthscale=1.0)  # No need for separate constant kernel in the product\n",
    "    mean = GPy.mappings.Constant(input_dim = X.shape[1], output_dim = 1, value = np.mean(y))\n",
    "    model = GPy.models.GPRegression(X, y, k, noise_var=0.001**2, mean_function=mean)\n",
    "\n",
    "    model.Gaussian_noise.variance.fix()\n",
    "    #model.kern.lengthscale.constrain_bounded(1e-15, 1e15)\n",
    "    #model.kern.variance.constrain_bounded(1e-20, 1e20)  # Constrain variance of RBF\n",
    "\n",
    "    model.optimize_restarts(100, verbose=False)  \n",
    "\n",
    "    print(model)  \n",
    "    print(model.log_likelihood())\n",
    "    #print(\"RBF variance:\", model.kern.variance)\n",
    "    #print(\"RBF lengthscale:\", model.kern.lengthscale)\n",
    "    #print(\"Constant Mean:\", model.mean_function)\n",
    "    print(\"BIC:\", 3 * math.log(32) - 2 * model.log_likelihood())"
   ]
  },
  {
   "cell_type": "code",
   "execution_count": 76,
   "metadata": {},
   "outputs": [],
   "source": [
    "X, y = generate_data()\n",
    "y1 = np.log(y)\n",
    "\n"
   ]
  },
  {
   "cell_type": "code",
   "execution_count": null,
   "metadata": {},
   "outputs": [],
   "source": [
    "def base_kernel_search(X, y):\n",
    "    kernel_comp = [GPy.kern.RBF(input_dim=X.shape[1], variance=1.0, lengthscale=1.0), \n",
    "                         GPy.kern.RatQuad(input_dim=X.shape[1], variance = 1.0, lengthscale= 1.0),\n",
    "                         GPy.kern.Matern32(input_dim=X.shape[1], variance = 1.0, lengthscale= 1.0),\n",
    "                         GPy.kern.Matern52(input_dim=X.shape[1], variance = 1.0, lengthscale= 1.0),\n",
    "                         GPy.kern.StdPeriodic(input_dim=X.shape[1], variance = 1.0, lengthscale= 1.0),\n",
    "                         GPy.kern.Exponential(input_dim=X.shape[1], variance = 1.0, lengthscale= 1.0)]\n",
    "    \n",
    "    best_model = None\n",
    "    best_bic = float('inf')\n",
    "    mean = GPy.mappings.Constant(input_dim = X.shape[1], output_dim = 1)\n",
    "\n",
    "\n",
    "    for kernel1 in kernel_comp:\n",
    "        kernel = kernel1\n",
    "        model = GPy.models.GPRegression(X, y, kernel, noise_var=0.001**2, mean_function=mean)\n",
    "        model.Gaussian_noise.variance.fix()\n",
    "        model.optimize_restarts(20, verbose=False)\n",
    "        n = model.num_data\n",
    "        k = len(model.parameters)\n",
    "        log_likelihood = model.log_likelihood()\n",
    "        \n",
    "        bic = k * np.log(n) - 2 * log_likelihood\n",
    "        print(bic)\n",
    "        print(model)\n",
    "\n",
    "        if bic < best_bic:\n",
    "            best_model = (kernel, model)\n",
    "            best_bic = bic\n",
    "\n",
    "    print(best_bic, best_model)"
   ]
  },
  {
   "cell_type": "code",
   "execution_count": 80,
   "metadata": {},
   "outputs": [],
   "source": [
    "def kernel_search(X, y):\n",
    "    kernel_comp = [GPy.kern.RBF(input_dim=X.shape[1], variance=1.0, lengthscale=1.0), \n",
    "                         GPy.kern.RatQuad(input_dim=X.shape[1], variance = 1.0, lengthscale= 1.0),\n",
    "                         GPy.kern.Matern32(input_dim=X.shape[1], variance = 1.0, lengthscale= 1.0),\n",
    "                         GPy.kern.Matern52(input_dim=X.shape[1], variance = 1.0, lengthscale= 1.0),\n",
    "                         GPy.kern.StdPeriodic(input_dim=X.shape[1], variance = 1.0, lengthscale= 1.0),\n",
    "                         GPy.kern.Exponential(input_dim=X.shape[1], variance = 1.0, lengthscale= 1.0)]\n",
    "    \n",
    "    best_model = None\n",
    "    best_bic = float('inf')\n",
    "    mean_comp = [GPy.mappings.Constant(input_dim = X.shape[1], output_dim = 1, value = np.mean(y)), \n",
    "            GPy.mappings.Linear(input_dim = X.shape[1], output_dim = 1)]\n",
    "\n",
    "\n",
    "    for kernel1 in kernel_comp:\n",
    "        for kernel2 in kernel_comp:\n",
    "            for mean in mean_comp:\n",
    "                # Combine kernels\n",
    "                kernel = kernel1 + kernel2\n",
    "                model = GPy.models.GPRegression(X, y, kernel, noise_var=0.001**2, mean_function=mean)\n",
    "                model.Gaussian_noise.variance.fix()\n",
    "                model.optimize_restarts(20, verbose=False)\n",
    "                n = model.num_data\n",
    "                k = len(model.parameters)\n",
    "                log_likelihood = model.log_likelihood()\n",
    "                \n",
    "                bic = k * np.log(n) - 2 * log_likelihood\n",
    "\n",
    "\n",
    "                if bic < best_bic:\n",
    "                    best_model = (kernel, model)\n",
    "                    best_bic = bic\n",
    "\n",
    "    print(best_bic, best_model)"
   ]
  },
  {
   "cell_type": "code",
   "execution_count": 81,
   "metadata": {},
   "outputs": [
    {
     "name": "stdout",
     "output_type": "stream",
     "text": [
      "-76.39732356561412 (<GPy.kern.src.add.Add object at 0x3072e5790>, <GPy.models.gp_regression.GPRegression object at 0x30a66b410>)\n"
     ]
    }
   ],
   "source": [
    "import warnings\n",
    "with warnings.catch_warnings(action=\"ignore\"):\n",
    "    kernel_search(X, y1)"
   ]
  }
 ],
 "metadata": {
  "kernelspec": {
   "display_name": "3.11.5",
   "language": "python",
   "name": "python3"
  },
  "language_info": {
   "codemirror_mode": {
    "name": "ipython",
    "version": 3
   },
   "file_extension": ".py",
   "mimetype": "text/x-python",
   "name": "python",
   "nbconvert_exporter": "python",
   "pygments_lexer": "ipython3",
   "version": "3.11.5"
  }
 },
 "nbformat": 4,
 "nbformat_minor": 2
}
